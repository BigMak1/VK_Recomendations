{
 "cells": [
  {
   "cell_type": "code",
   "execution_count": 12,
   "metadata": {
    "id": "QVGJnZf-cgwZ"
   },
   "outputs": [],
   "source": [
    "import numpy as np\n",
    "import pandas as pd"
   ]
  },
  {
   "cell_type": "markdown",
   "metadata": {},
   "source": [
    "# Получаем данные"
   ]
  },
  {
   "cell_type": "code",
   "execution_count": 1,
   "metadata": {},
   "outputs": [
    {
     "name": "stdout",
     "output_type": "stream",
     "text": [
      "Collecting wget\n",
      "  Downloading wget-3.2.zip (10 kB)\n",
      "Using legacy 'setup.py install' for wget, since package 'wheel' is not installed.\n",
      "Installing collected packages: wget\n",
      "    Running setup.py install for wget: started\n",
      "    Running setup.py install for wget: finished with status 'done'\n",
      "Successfully installed wget-3.2\n",
      "Note: you may need to restart the kernel to use updated packages.\n"
     ]
    },
    {
     "name": "stderr",
     "output_type": "stream",
     "text": [
      "WARNING: You are using pip version 21.2.3; however, version 23.1.2 is available.\n",
      "You should consider upgrading via the 'C:\\Users\\konma\\AppData\\Local\\Programs\\Python\\Python310\\python.exe -m pip install --upgrade pip' command.\n"
     ]
    }
   ],
   "source": [
    "pip install wget"
   ]
  },
  {
   "cell_type": "code",
   "execution_count": 2,
   "metadata": {},
   "outputs": [
    {
     "name": "stdout",
     "output_type": "stream",
     "text": [
      "\n",
      "Saved under ml-latest.zip\n"
     ]
    }
   ],
   "source": [
    "!python -m wget https://files.grouplens.org/datasets/movielens/ml-latest.zip -o ml-latest.zip"
   ]
  },
  {
   "cell_type": "code",
   "execution_count": 10,
   "metadata": {},
   "outputs": [],
   "source": [
    "import zipfile\n",
    "with zipfile.ZipFile('ml-latest.zip', 'r') as zip_ref:\n",
    "    zip_ref.extractall()\n"
   ]
  },
  {
   "cell_type": "markdown",
   "metadata": {},
   "source": [
    "### Для начала возьмем информацию из двух основных файлов movies.csv и ratings.csv"
   ]
  },
  {
   "cell_type": "code",
   "execution_count": 23,
   "metadata": {
    "colab": {
     "base_uri": "https://localhost:8080/",
     "height": 423
    },
    "id": "PlMxJ7pqdDVI",
    "outputId": "c1cafc7f-a969-4f1e-8efc-9fdefd4d50f8"
   },
   "outputs": [
    {
     "data": {
      "text/html": [
       "<div>\n",
       "<style scoped>\n",
       "    .dataframe tbody tr th:only-of-type {\n",
       "        vertical-align: middle;\n",
       "    }\n",
       "\n",
       "    .dataframe tbody tr th {\n",
       "        vertical-align: top;\n",
       "    }\n",
       "\n",
       "    .dataframe thead th {\n",
       "        text-align: right;\n",
       "    }\n",
       "</style>\n",
       "<table border=\"1\" class=\"dataframe\">\n",
       "  <thead>\n",
       "    <tr style=\"text-align: right;\">\n",
       "      <th></th>\n",
       "      <th>userId</th>\n",
       "      <th>movieId</th>\n",
       "      <th>rating</th>\n",
       "      <th>timestamp</th>\n",
       "    </tr>\n",
       "  </thead>\n",
       "  <tbody>\n",
       "    <tr>\n",
       "      <th>0</th>\n",
       "      <td>1</td>\n",
       "      <td>307</td>\n",
       "      <td>3.5</td>\n",
       "      <td>1256677221</td>\n",
       "    </tr>\n",
       "    <tr>\n",
       "      <th>1</th>\n",
       "      <td>1</td>\n",
       "      <td>481</td>\n",
       "      <td>3.5</td>\n",
       "      <td>1256677456</td>\n",
       "    </tr>\n",
       "    <tr>\n",
       "      <th>2</th>\n",
       "      <td>1</td>\n",
       "      <td>1091</td>\n",
       "      <td>1.5</td>\n",
       "      <td>1256677471</td>\n",
       "    </tr>\n",
       "    <tr>\n",
       "      <th>3</th>\n",
       "      <td>1</td>\n",
       "      <td>1257</td>\n",
       "      <td>4.5</td>\n",
       "      <td>1256677460</td>\n",
       "    </tr>\n",
       "    <tr>\n",
       "      <th>4</th>\n",
       "      <td>1</td>\n",
       "      <td>1449</td>\n",
       "      <td>4.5</td>\n",
       "      <td>1256677264</td>\n",
       "    </tr>\n",
       "    <tr>\n",
       "      <th>...</th>\n",
       "      <td>...</td>\n",
       "      <td>...</td>\n",
       "      <td>...</td>\n",
       "      <td>...</td>\n",
       "    </tr>\n",
       "    <tr>\n",
       "      <th>27753439</th>\n",
       "      <td>283228</td>\n",
       "      <td>8542</td>\n",
       "      <td>4.5</td>\n",
       "      <td>1379882795</td>\n",
       "    </tr>\n",
       "    <tr>\n",
       "      <th>27753440</th>\n",
       "      <td>283228</td>\n",
       "      <td>8712</td>\n",
       "      <td>4.5</td>\n",
       "      <td>1379882751</td>\n",
       "    </tr>\n",
       "    <tr>\n",
       "      <th>27753441</th>\n",
       "      <td>283228</td>\n",
       "      <td>34405</td>\n",
       "      <td>4.5</td>\n",
       "      <td>1379882889</td>\n",
       "    </tr>\n",
       "    <tr>\n",
       "      <th>27753442</th>\n",
       "      <td>283228</td>\n",
       "      <td>44761</td>\n",
       "      <td>4.5</td>\n",
       "      <td>1354159524</td>\n",
       "    </tr>\n",
       "    <tr>\n",
       "      <th>27753443</th>\n",
       "      <td>283228</td>\n",
       "      <td>54286</td>\n",
       "      <td>4.5</td>\n",
       "      <td>1354159718</td>\n",
       "    </tr>\n",
       "  </tbody>\n",
       "</table>\n",
       "<p>27753444 rows × 4 columns</p>\n",
       "</div>"
      ],
      "text/plain": [
       "          userId  movieId  rating   timestamp\n",
       "0              1      307     3.5  1256677221\n",
       "1              1      481     3.5  1256677456\n",
       "2              1     1091     1.5  1256677471\n",
       "3              1     1257     4.5  1256677460\n",
       "4              1     1449     4.5  1256677264\n",
       "...          ...      ...     ...         ...\n",
       "27753439  283228     8542     4.5  1379882795\n",
       "27753440  283228     8712     4.5  1379882751\n",
       "27753441  283228    34405     4.5  1379882889\n",
       "27753442  283228    44761     4.5  1354159524\n",
       "27753443  283228    54286     4.5  1354159718\n",
       "\n",
       "[27753444 rows x 4 columns]"
      ]
     },
     "execution_count": 23,
     "metadata": {},
     "output_type": "execute_result"
    }
   ],
   "source": [
    "ratings = pd.read_csv(r'ml-latest\\ratings.csv')\n",
    "ratings"
   ]
  },
  {
   "cell_type": "code",
   "execution_count": 27,
   "metadata": {
    "colab": {
     "base_uri": "https://localhost:8080/",
     "height": 423
    },
    "id": "2izjsBGHd9WN",
    "outputId": "b5946a5f-59a5-4b29-a25b-65de51cc4a6b"
   },
   "outputs": [
    {
     "data": {
      "text/html": [
       "<div>\n",
       "<style scoped>\n",
       "    .dataframe tbody tr th:only-of-type {\n",
       "        vertical-align: middle;\n",
       "    }\n",
       "\n",
       "    .dataframe tbody tr th {\n",
       "        vertical-align: top;\n",
       "    }\n",
       "\n",
       "    .dataframe thead th {\n",
       "        text-align: right;\n",
       "    }\n",
       "</style>\n",
       "<table border=\"1\" class=\"dataframe\">\n",
       "  <thead>\n",
       "    <tr style=\"text-align: right;\">\n",
       "      <th></th>\n",
       "      <th>movieId</th>\n",
       "      <th>title</th>\n",
       "      <th>genres</th>\n",
       "    </tr>\n",
       "  </thead>\n",
       "  <tbody>\n",
       "    <tr>\n",
       "      <th>0</th>\n",
       "      <td>1</td>\n",
       "      <td>Toy Story (1995)</td>\n",
       "      <td>Adventure|Animation|Children|Comedy|Fantasy</td>\n",
       "    </tr>\n",
       "    <tr>\n",
       "      <th>1</th>\n",
       "      <td>2</td>\n",
       "      <td>Jumanji (1995)</td>\n",
       "      <td>Adventure|Children|Fantasy</td>\n",
       "    </tr>\n",
       "    <tr>\n",
       "      <th>2</th>\n",
       "      <td>3</td>\n",
       "      <td>Grumpier Old Men (1995)</td>\n",
       "      <td>Comedy|Romance</td>\n",
       "    </tr>\n",
       "    <tr>\n",
       "      <th>3</th>\n",
       "      <td>4</td>\n",
       "      <td>Waiting to Exhale (1995)</td>\n",
       "      <td>Comedy|Drama|Romance</td>\n",
       "    </tr>\n",
       "    <tr>\n",
       "      <th>4</th>\n",
       "      <td>5</td>\n",
       "      <td>Father of the Bride Part II (1995)</td>\n",
       "      <td>Comedy</td>\n",
       "    </tr>\n",
       "    <tr>\n",
       "      <th>...</th>\n",
       "      <td>...</td>\n",
       "      <td>...</td>\n",
       "      <td>...</td>\n",
       "    </tr>\n",
       "    <tr>\n",
       "      <th>58093</th>\n",
       "      <td>193876</td>\n",
       "      <td>The Great Glinka (1946)</td>\n",
       "      <td>(no genres listed)</td>\n",
       "    </tr>\n",
       "    <tr>\n",
       "      <th>58094</th>\n",
       "      <td>193878</td>\n",
       "      <td>Les tribulations d'une caissière (2011)</td>\n",
       "      <td>Comedy</td>\n",
       "    </tr>\n",
       "    <tr>\n",
       "      <th>58095</th>\n",
       "      <td>193880</td>\n",
       "      <td>Her Name Was Mumu (2016)</td>\n",
       "      <td>Drama</td>\n",
       "    </tr>\n",
       "    <tr>\n",
       "      <th>58096</th>\n",
       "      <td>193882</td>\n",
       "      <td>Flora (2017)</td>\n",
       "      <td>Adventure|Drama|Horror|Sci-Fi</td>\n",
       "    </tr>\n",
       "    <tr>\n",
       "      <th>58097</th>\n",
       "      <td>193886</td>\n",
       "      <td>Leal (2018)</td>\n",
       "      <td>Action|Crime|Drama</td>\n",
       "    </tr>\n",
       "  </tbody>\n",
       "</table>\n",
       "<p>58098 rows × 3 columns</p>\n",
       "</div>"
      ],
      "text/plain": [
       "       movieId                                    title  \\\n",
       "0            1                         Toy Story (1995)   \n",
       "1            2                           Jumanji (1995)   \n",
       "2            3                  Grumpier Old Men (1995)   \n",
       "3            4                 Waiting to Exhale (1995)   \n",
       "4            5       Father of the Bride Part II (1995)   \n",
       "...        ...                                      ...   \n",
       "58093   193876                  The Great Glinka (1946)   \n",
       "58094   193878  Les tribulations d'une caissière (2011)   \n",
       "58095   193880                 Her Name Was Mumu (2016)   \n",
       "58096   193882                             Flora (2017)   \n",
       "58097   193886                              Leal (2018)   \n",
       "\n",
       "                                            genres  \n",
       "0      Adventure|Animation|Children|Comedy|Fantasy  \n",
       "1                       Adventure|Children|Fantasy  \n",
       "2                                   Comedy|Romance  \n",
       "3                             Comedy|Drama|Romance  \n",
       "4                                           Comedy  \n",
       "...                                            ...  \n",
       "58093                           (no genres listed)  \n",
       "58094                                       Comedy  \n",
       "58095                                        Drama  \n",
       "58096                Adventure|Drama|Horror|Sci-Fi  \n",
       "58097                           Action|Crime|Drama  \n",
       "\n",
       "[58098 rows x 3 columns]"
      ]
     },
     "execution_count": 27,
     "metadata": {},
     "output_type": "execute_result"
    }
   ],
   "source": [
    "movies = pd.read_csv(r'ml-latest/movies.csv')\n",
    "movies"
   ]
  },
  {
   "cell_type": "markdown",
   "metadata": {},
   "source": [
    "### Скомбинируем некоторые данные из этих таблиц в один датафрейм"
   ]
  },
  {
   "cell_type": "code",
   "execution_count": 28,
   "metadata": {
    "id": "oeq0uFKGesvx"
   },
   "outputs": [],
   "source": [
    "ratings_df = pd.merge(ratings, movies)[['userId', 'title', 'rating', 'timestamp']]\n",
    "ratings_df[\"userId\"] = ratings_df[\"userId\"].astype(str)"
   ]
  },
  {
   "cell_type": "markdown",
   "metadata": {},
   "source": [
    "### Перейдем к созданию и разделению выборки для тренировки и валидации. \n",
    "Для этого сделаем препроцессинг данных. Для каждого пользователя, выбираем последнюю по времени оценку, с учётом того, что эти пользователи уже оценили некоторое количество фильмов, превышающее определённое пороговое значение. Это даёт нам хорошее представление того процесса, который мы собираемся смоделировать. Именно этот подход нам и стоит использовать. Для этого определим функцию, которая будет получать n оценок для каждого пользователя:"
   ]
  },
  {
   "cell_type": "code",
   "execution_count": 29,
   "metadata": {
    "id": "pPnFK6EOkOg2"
   },
   "outputs": [],
   "source": [
    "def get_last_n_ratings_by_user(\n",
    "    df, n, min_ratings_per_user=0.5, user_colname=\"userId\", timestamp_colname=\"timestamp\"\n",
    "):\n",
    "    return (\n",
    "        df.groupby(user_colname)\n",
    "        .filter(lambda x: len(x) >= min_ratings_per_user)\n",
    "        .sort_values(timestamp_colname)\n",
    "        .groupby(user_colname)\n",
    "        .tail(n)\n",
    "        .sort_values(user_colname)\n",
    "    )"
   ]
  },
  {
   "cell_type": "code",
   "execution_count": 30,
   "metadata": {
    "colab": {
     "base_uri": "https://localhost:8080/",
     "height": 423
    },
    "id": "H_fJ1-sgnxlK",
    "outputId": "01195b03-e2f6-4e5a-9e79-194a06f020ab"
   },
   "outputs": [
    {
     "data": {
      "text/html": [
       "<div>\n",
       "<style scoped>\n",
       "    .dataframe tbody tr th:only-of-type {\n",
       "        vertical-align: middle;\n",
       "    }\n",
       "\n",
       "    .dataframe tbody tr th {\n",
       "        vertical-align: top;\n",
       "    }\n",
       "\n",
       "    .dataframe thead th {\n",
       "        text-align: right;\n",
       "    }\n",
       "</style>\n",
       "<table border=\"1\" class=\"dataframe\">\n",
       "  <thead>\n",
       "    <tr style=\"text-align: right;\">\n",
       "      <th></th>\n",
       "      <th>userId</th>\n",
       "      <th>title</th>\n",
       "      <th>rating</th>\n",
       "      <th>timestamp</th>\n",
       "    </tr>\n",
       "  </thead>\n",
       "  <tbody>\n",
       "    <tr>\n",
       "      <th>62738</th>\n",
       "      <td>1</td>\n",
       "      <td>Stigmata (1999)</td>\n",
       "      <td>3.0</td>\n",
       "      <td>1256677500</td>\n",
       "    </tr>\n",
       "    <tr>\n",
       "      <th>12597906</th>\n",
       "      <td>10</td>\n",
       "      <td>Withnail &amp; I (1987)</td>\n",
       "      <td>5.0</td>\n",
       "      <td>948967730</td>\n",
       "    </tr>\n",
       "    <tr>\n",
       "      <th>5579877</th>\n",
       "      <td>100</td>\n",
       "      <td>Fifth Element, The (1997)</td>\n",
       "      <td>4.5</td>\n",
       "      <td>1212324756</td>\n",
       "    </tr>\n",
       "    <tr>\n",
       "      <th>14156358</th>\n",
       "      <td>1000</td>\n",
       "      <td>Grand Budapest Hotel, The (2014)</td>\n",
       "      <td>2.5</td>\n",
       "      <td>1534443939</td>\n",
       "    </tr>\n",
       "    <tr>\n",
       "      <th>27207753</th>\n",
       "      <td>10000</td>\n",
       "      <td>Mandy (2018)</td>\n",
       "      <td>4.0</td>\n",
       "      <td>1537700357</td>\n",
       "    </tr>\n",
       "    <tr>\n",
       "      <th>...</th>\n",
       "      <td>...</td>\n",
       "      <td>...</td>\n",
       "      <td>...</td>\n",
       "      <td>...</td>\n",
       "    </tr>\n",
       "    <tr>\n",
       "      <th>15016031</th>\n",
       "      <td>99995</td>\n",
       "      <td>Englishman Who Went Up a Hill But Came Down a ...</td>\n",
       "      <td>3.0</td>\n",
       "      <td>831764418</td>\n",
       "    </tr>\n",
       "    <tr>\n",
       "      <th>2006885</th>\n",
       "      <td>99996</td>\n",
       "      <td>Shawshank Redemption, The (1994)</td>\n",
       "      <td>4.0</td>\n",
       "      <td>1471744148</td>\n",
       "    </tr>\n",
       "    <tr>\n",
       "      <th>23947885</th>\n",
       "      <td>99997</td>\n",
       "      <td>Windtalkers (2002)</td>\n",
       "      <td>4.0</td>\n",
       "      <td>1043014736</td>\n",
       "    </tr>\n",
       "    <tr>\n",
       "      <th>19267908</th>\n",
       "      <td>99998</td>\n",
       "      <td>Money Pit, The (1986)</td>\n",
       "      <td>3.0</td>\n",
       "      <td>944943612</td>\n",
       "    </tr>\n",
       "    <tr>\n",
       "      <th>3552230</th>\n",
       "      <td>99999</td>\n",
       "      <td>Silence of the Lambs, The (1991)</td>\n",
       "      <td>5.0</td>\n",
       "      <td>847888528</td>\n",
       "    </tr>\n",
       "  </tbody>\n",
       "</table>\n",
       "<p>283228 rows × 4 columns</p>\n",
       "</div>"
      ],
      "text/plain": [
       "         userId                                              title  rating  \\\n",
       "62738         1                                    Stigmata (1999)     3.0   \n",
       "12597906     10                                Withnail & I (1987)     5.0   \n",
       "5579877     100                          Fifth Element, The (1997)     4.5   \n",
       "14156358   1000                   Grand Budapest Hotel, The (2014)     2.5   \n",
       "27207753  10000                                       Mandy (2018)     4.0   \n",
       "...         ...                                                ...     ...   \n",
       "15016031  99995  Englishman Who Went Up a Hill But Came Down a ...     3.0   \n",
       "2006885   99996                   Shawshank Redemption, The (1994)     4.0   \n",
       "23947885  99997                                 Windtalkers (2002)     4.0   \n",
       "19267908  99998                              Money Pit, The (1986)     3.0   \n",
       "3552230   99999                   Silence of the Lambs, The (1991)     5.0   \n",
       "\n",
       "           timestamp  \n",
       "62738     1256677500  \n",
       "12597906   948967730  \n",
       "5579877   1212324756  \n",
       "14156358  1534443939  \n",
       "27207753  1537700357  \n",
       "...              ...  \n",
       "15016031   831764418  \n",
       "2006885   1471744148  \n",
       "23947885  1043014736  \n",
       "19267908   944943612  \n",
       "3552230    847888528  \n",
       "\n",
       "[283228 rows x 4 columns]"
      ]
     },
     "execution_count": 30,
     "metadata": {},
     "output_type": "execute_result"
    }
   ],
   "source": [
    "get_last_n_ratings_by_user(ratings_df, 1)"
   ]
  },
  {
   "cell_type": "markdown",
   "metadata": {},
   "source": [
    "Далее с помощью этой функции определим другую функцию, которая будет помечать n оценок на пользователя так, чтобы они попадали бы в проверочную выборку. Для этого создадим отдельный столбец is_valid."
   ]
  },
  {
   "cell_type": "code",
   "execution_count": 31,
   "metadata": {
    "id": "jourqjSpo6C5"
   },
   "outputs": [],
   "source": [
    "def mark_last_n_ratings_as_validation_set(\n",
    "    df, n, min_ratings=0.5, user_colname=\"userId\", timestamp_colname=\"timestamp\"\n",
    "):\n",
    "    df[\"is_valid\"] = False\n",
    "    df.loc[\n",
    "        get_last_n_ratings_by_user(\n",
    "            df,\n",
    "            n,\n",
    "            min_ratings,\n",
    "            user_colname=user_colname,\n",
    "            timestamp_colname=timestamp_colname,\n",
    "        ).index,\n",
    "        \"is_valid\",\n",
    "    ] = True\n",
    "\n",
    "    return df"
   ]
  },
  {
   "cell_type": "code",
   "execution_count": 32,
   "metadata": {
    "id": "lixFcaISr7o_"
   },
   "outputs": [
    {
     "data": {
      "text/html": [
       "<div>\n",
       "<style scoped>\n",
       "    .dataframe tbody tr th:only-of-type {\n",
       "        vertical-align: middle;\n",
       "    }\n",
       "\n",
       "    .dataframe tbody tr th {\n",
       "        vertical-align: top;\n",
       "    }\n",
       "\n",
       "    .dataframe thead th {\n",
       "        text-align: right;\n",
       "    }\n",
       "</style>\n",
       "<table border=\"1\" class=\"dataframe\">\n",
       "  <thead>\n",
       "    <tr style=\"text-align: right;\">\n",
       "      <th></th>\n",
       "      <th>userId</th>\n",
       "      <th>title</th>\n",
       "      <th>rating</th>\n",
       "      <th>timestamp</th>\n",
       "      <th>is_valid</th>\n",
       "    </tr>\n",
       "  </thead>\n",
       "  <tbody>\n",
       "    <tr>\n",
       "      <th>0</th>\n",
       "      <td>1</td>\n",
       "      <td>Three Colors: Blue (Trois couleurs: Bleu) (1993)</td>\n",
       "      <td>3.5</td>\n",
       "      <td>1256677221</td>\n",
       "      <td>False</td>\n",
       "    </tr>\n",
       "    <tr>\n",
       "      <th>1</th>\n",
       "      <td>6</td>\n",
       "      <td>Three Colors: Blue (Trois couleurs: Bleu) (1993)</td>\n",
       "      <td>4.0</td>\n",
       "      <td>832059248</td>\n",
       "      <td>False</td>\n",
       "    </tr>\n",
       "    <tr>\n",
       "      <th>2</th>\n",
       "      <td>56</td>\n",
       "      <td>Three Colors: Blue (Trois couleurs: Bleu) (1993)</td>\n",
       "      <td>4.0</td>\n",
       "      <td>1383625728</td>\n",
       "      <td>False</td>\n",
       "    </tr>\n",
       "    <tr>\n",
       "      <th>3</th>\n",
       "      <td>71</td>\n",
       "      <td>Three Colors: Blue (Trois couleurs: Bleu) (1993)</td>\n",
       "      <td>5.0</td>\n",
       "      <td>1257795414</td>\n",
       "      <td>False</td>\n",
       "    </tr>\n",
       "    <tr>\n",
       "      <th>4</th>\n",
       "      <td>84</td>\n",
       "      <td>Three Colors: Blue (Trois couleurs: Bleu) (1993)</td>\n",
       "      <td>3.0</td>\n",
       "      <td>999055519</td>\n",
       "      <td>False</td>\n",
       "    </tr>\n",
       "    <tr>\n",
       "      <th>...</th>\n",
       "      <td>...</td>\n",
       "      <td>...</td>\n",
       "      <td>...</td>\n",
       "      <td>...</td>\n",
       "      <td>...</td>\n",
       "    </tr>\n",
       "    <tr>\n",
       "      <th>27753439</th>\n",
       "      <td>282403</td>\n",
       "      <td>Stranglehold (1994)</td>\n",
       "      <td>1.0</td>\n",
       "      <td>1524243885</td>\n",
       "      <td>False</td>\n",
       "    </tr>\n",
       "    <tr>\n",
       "      <th>27753440</th>\n",
       "      <td>282732</td>\n",
       "      <td>The Great Houdini (1976)</td>\n",
       "      <td>3.5</td>\n",
       "      <td>1504408070</td>\n",
       "      <td>False</td>\n",
       "    </tr>\n",
       "    <tr>\n",
       "      <th>27753441</th>\n",
       "      <td>283000</td>\n",
       "      <td>Hotline (2014)</td>\n",
       "      <td>3.5</td>\n",
       "      <td>1417317969</td>\n",
       "      <td>False</td>\n",
       "    </tr>\n",
       "    <tr>\n",
       "      <th>27753442</th>\n",
       "      <td>283000</td>\n",
       "      <td>Barnum! (1986)</td>\n",
       "      <td>3.5</td>\n",
       "      <td>1431539331</td>\n",
       "      <td>False</td>\n",
       "    </tr>\n",
       "    <tr>\n",
       "      <th>27753443</th>\n",
       "      <td>283000</td>\n",
       "      <td>Paul Taylor Creative Domain (2014)</td>\n",
       "      <td>3.5</td>\n",
       "      <td>1442889934</td>\n",
       "      <td>False</td>\n",
       "    </tr>\n",
       "  </tbody>\n",
       "</table>\n",
       "<p>27753444 rows × 5 columns</p>\n",
       "</div>"
      ],
      "text/plain": [
       "          userId                                             title  rating  \\\n",
       "0              1  Three Colors: Blue (Trois couleurs: Bleu) (1993)     3.5   \n",
       "1              6  Three Colors: Blue (Trois couleurs: Bleu) (1993)     4.0   \n",
       "2             56  Three Colors: Blue (Trois couleurs: Bleu) (1993)     4.0   \n",
       "3             71  Three Colors: Blue (Trois couleurs: Bleu) (1993)     5.0   \n",
       "4             84  Three Colors: Blue (Trois couleurs: Bleu) (1993)     3.0   \n",
       "...          ...                                               ...     ...   \n",
       "27753439  282403                               Stranglehold (1994)     1.0   \n",
       "27753440  282732                          The Great Houdini (1976)     3.5   \n",
       "27753441  283000                                    Hotline (2014)     3.5   \n",
       "27753442  283000                                    Barnum! (1986)     3.5   \n",
       "27753443  283000                Paul Taylor Creative Domain (2014)     3.5   \n",
       "\n",
       "           timestamp  is_valid  \n",
       "0         1256677221     False  \n",
       "1          832059248     False  \n",
       "2         1383625728     False  \n",
       "3         1257795414     False  \n",
       "4          999055519     False  \n",
       "...              ...       ...  \n",
       "27753439  1524243885     False  \n",
       "27753440  1504408070     False  \n",
       "27753441  1417317969     False  \n",
       "27753442  1431539331     False  \n",
       "27753443  1442889934     False  \n",
       "\n",
       "[27753444 rows x 5 columns]"
      ]
     },
     "execution_count": 32,
     "metadata": {},
     "output_type": "execute_result"
    }
   ],
   "source": [
    "mark_last_n_ratings_as_validation_set(ratings_df, 1)"
   ]
  },
  {
   "cell_type": "markdown",
   "metadata": {},
   "source": [
    "# После этого мы можем разделить данные на обучающую и тестовую выборки:"
   ]
  },
  {
   "cell_type": "code",
   "execution_count": 33,
   "metadata": {
    "id": "QqHd2YaWpvcT"
   },
   "outputs": [],
   "source": [
    "train_df = ratings_df[ratings_df.is_valid==False]\n",
    "valid_df = ratings_df[ratings_df.is_valid==True]"
   ]
  },
  {
   "cell_type": "markdown",
   "metadata": {
    "id": "-7sCiBmntt5x"
   },
   "source": [
    "# Выбор метрики\n",
    "Будем оценивать с помощью кореня из средней квадратичной ошибки (Root Mean Squared Error, RMSE), т.к. он имеет тенденцию к более сильному выделению больших ошибок"
   ]
  },
  {
   "cell_type": "code",
   "execution_count": null,
   "metadata": {
    "id": "xA4l79T5t2dd"
   },
   "outputs": [],
   "source": [
    "# median_rating = train_df.rating.median(); median_rating"
   ]
  },
  {
   "cell_type": "code",
   "execution_count": null,
   "metadata": {
    "id": "QsdO9zGft9eh"
   },
   "outputs": [],
   "source": [
    "# import math\n",
    "# from sklearn.metrics import mean_squared_error, mean_absolute_error\n",
    "\n",
    "# predictions = np.array([median_rating]* len(valid_df))\n",
    "\n",
    "# mae = mean_absolute_error(valid_df.rating, predictions)\n",
    "# mse = mean_squared_error(valid_df.rating, predictions)\n",
    "# rmse = math.sqrt(mse)\n",
    "\n",
    "# print(f'mae: {mae}')\n",
    "# print(f'mse: {mse}')\n",
    "# print(f'rmse: {rmse}')"
   ]
  },
  {
   "cell_type": "code",
   "execution_count": 66,
   "metadata": {
    "id": "jyyRYyB4iEZG"
   },
   "outputs": [
    {
     "data": {
      "text/html": [
       "<div>\n",
       "<style scoped>\n",
       "    .dataframe tbody tr th:only-of-type {\n",
       "        vertical-align: middle;\n",
       "    }\n",
       "\n",
       "    .dataframe tbody tr th {\n",
       "        vertical-align: top;\n",
       "    }\n",
       "\n",
       "    .dataframe thead th {\n",
       "        text-align: right;\n",
       "    }\n",
       "</style>\n",
       "<table border=\"1\" class=\"dataframe\">\n",
       "  <thead>\n",
       "    <tr style=\"text-align: right;\">\n",
       "      <th></th>\n",
       "      <th>userId</th>\n",
       "      <th>title</th>\n",
       "      <th>rating</th>\n",
       "      <th>timestamp</th>\n",
       "      <th>is_valid</th>\n",
       "    </tr>\n",
       "  </thead>\n",
       "  <tbody>\n",
       "    <tr>\n",
       "      <th>150352</th>\n",
       "      <td>10</td>\n",
       "      <td>Manhattan (1979)</td>\n",
       "      <td>5.0</td>\n",
       "      <td>948882312</td>\n",
       "      <td>False</td>\n",
       "    </tr>\n",
       "    <tr>\n",
       "      <th>371447</th>\n",
       "      <td>10</td>\n",
       "      <td>Toy Story (1995)</td>\n",
       "      <td>5.0</td>\n",
       "      <td>948885850</td>\n",
       "      <td>False</td>\n",
       "    </tr>\n",
       "    <tr>\n",
       "      <th>656222</th>\n",
       "      <td>10</td>\n",
       "      <td>Twelve Monkeys (a.k.a. 12 Monkeys) (1995)</td>\n",
       "      <td>3.0</td>\n",
       "      <td>948887531</td>\n",
       "      <td>False</td>\n",
       "    </tr>\n",
       "    <tr>\n",
       "      <th>828248</th>\n",
       "      <td>10</td>\n",
       "      <td>Seven (a.k.a. Se7en) (1995)</td>\n",
       "      <td>4.0</td>\n",
       "      <td>948881454</td>\n",
       "      <td>False</td>\n",
       "    </tr>\n",
       "    <tr>\n",
       "      <th>883488</th>\n",
       "      <td>10</td>\n",
       "      <td>Usual Suspects, The (1995)</td>\n",
       "      <td>5.0</td>\n",
       "      <td>948882791</td>\n",
       "      <td>False</td>\n",
       "    </tr>\n",
       "    <tr>\n",
       "      <th>...</th>\n",
       "      <td>...</td>\n",
       "      <td>...</td>\n",
       "      <td>...</td>\n",
       "      <td>...</td>\n",
       "      <td>...</td>\n",
       "    </tr>\n",
       "    <tr>\n",
       "      <th>13117604</th>\n",
       "      <td>10</td>\n",
       "      <td>All About My Mother (Todo sobre mi madre) (1999)</td>\n",
       "      <td>5.0</td>\n",
       "      <td>948881514</td>\n",
       "      <td>False</td>\n",
       "    </tr>\n",
       "    <tr>\n",
       "      <th>13122769</th>\n",
       "      <td>10</td>\n",
       "      <td>Dead Calm (1989)</td>\n",
       "      <td>3.0</td>\n",
       "      <td>948883834</td>\n",
       "      <td>False</td>\n",
       "    </tr>\n",
       "    <tr>\n",
       "      <th>13126285</th>\n",
       "      <td>10</td>\n",
       "      <td>Malcolm X (1992)</td>\n",
       "      <td>3.0</td>\n",
       "      <td>948882395</td>\n",
       "      <td>False</td>\n",
       "    </tr>\n",
       "    <tr>\n",
       "      <th>13131615</th>\n",
       "      <td>10</td>\n",
       "      <td>Howards End (1992)</td>\n",
       "      <td>3.0</td>\n",
       "      <td>948882230</td>\n",
       "      <td>False</td>\n",
       "    </tr>\n",
       "    <tr>\n",
       "      <th>13134744</th>\n",
       "      <td>10</td>\n",
       "      <td>Hard-Boiled (Lat sau san taam) (1992)</td>\n",
       "      <td>4.0</td>\n",
       "      <td>948882177</td>\n",
       "      <td>False</td>\n",
       "    </tr>\n",
       "  </tbody>\n",
       "</table>\n",
       "<p>121 rows × 5 columns</p>\n",
       "</div>"
      ],
      "text/plain": [
       "         userId                                             title  rating  \\\n",
       "150352       10                                  Manhattan (1979)     5.0   \n",
       "371447       10                                  Toy Story (1995)     5.0   \n",
       "656222       10         Twelve Monkeys (a.k.a. 12 Monkeys) (1995)     3.0   \n",
       "828248       10                       Seven (a.k.a. Se7en) (1995)     4.0   \n",
       "883488       10                        Usual Suspects, The (1995)     5.0   \n",
       "...         ...                                               ...     ...   \n",
       "13117604     10  All About My Mother (Todo sobre mi madre) (1999)     5.0   \n",
       "13122769     10                                  Dead Calm (1989)     3.0   \n",
       "13126285     10                                  Malcolm X (1992)     3.0   \n",
       "13131615     10                                Howards End (1992)     3.0   \n",
       "13134744     10             Hard-Boiled (Lat sau san taam) (1992)     4.0   \n",
       "\n",
       "          timestamp  is_valid  \n",
       "150352    948882312     False  \n",
       "371447    948885850     False  \n",
       "656222    948887531     False  \n",
       "828248    948881454     False  \n",
       "883488    948882791     False  \n",
       "...             ...       ...  \n",
       "13117604  948881514     False  \n",
       "13122769  948883834     False  \n",
       "13126285  948882395     False  \n",
       "13131615  948882230     False  \n",
       "13134744  948882177     False  \n",
       "\n",
       "[121 rows x 5 columns]"
      ]
     },
     "execution_count": 66,
     "metadata": {},
     "output_type": "execute_result"
    }
   ],
   "source": [
    "ratings_df[ratings_df['userId'] == '10']"
   ]
  },
  {
   "cell_type": "markdown",
   "metadata": {},
   "source": [
    "# Реализация эмбеддинга\n",
    "В кодирование признаков пользователей и фильмов я буду использовать матричную факторизацию со смещениемю. Для каждого пользователя и фильма создается эмбеддинг в виде матрицы. В каждой матрице пользователя каждая строка является прдпочтением отдельного пользователя. То же самое и с эмбеддингом фильма. Перемножая матрицы эмбеддингов пользователя и фильмя мы получаем матрицу оценок с какой-то погрешностью (смещением bias), которая может спрогнозировть поведение реакцию на фильмы, которые он еще не смотрел. По этому критерию и будут ранжироваться фильмы в рекомендациях.\n"
   ]
  },
  {
   "cell_type": "markdown",
   "metadata": {},
   "source": [
    "Для начала перенумеруем id пользователя и название фильма с помощью чисел, создав свои индефикаторы. Также будем хранить таблицу для однозначного соответствия."
   ]
  },
  {
   "cell_type": "code",
   "execution_count": 34,
   "metadata": {
    "id": "Rlf3LYsDfQq4"
   },
   "outputs": [],
   "source": [
    "user_lookup = {v: i+1 for i, v in enumerate(ratings_df['userId'].unique())}"
   ]
  },
  {
   "cell_type": "code",
   "execution_count": 35,
   "metadata": {
    "id": "PxsypKfGg-EV"
   },
   "outputs": [],
   "source": [
    "movie_lookup = {v: i+1 for i, v in enumerate(ratings_df['title'].unique())}"
   ]
  },
  {
   "cell_type": "markdown",
   "metadata": {},
   "source": [
    "Используя PyTorch, создадим класс, хранящий наш DataFrame со всеми поисковыми таблицами. Также сделаем возможность достать из него оценки, выставленные пользователями фильмам с помощью метода getitem."
   ]
  },
  {
   "cell_type": "code",
   "execution_count": 36,
   "metadata": {
    "id": "xzp6A25mhEwZ"
   },
   "outputs": [],
   "source": [
    "from torch.utils.data import Dataset\n",
    "\n",
    "class UserItemRatingDataset(Dataset):\n",
    "    def __init__(self, df, movie_lookup, user_lookup):\n",
    "        self.df = df\n",
    "        self.movie_lookup = movie_lookup\n",
    "        self.user_lookup = user_lookup\n",
    "\n",
    "    def __getitem__(self, index):\n",
    "        row = self.df.iloc[index]\n",
    "        user_id = self.user_lookup[row.userId]\n",
    "        movie_id = self.movie_lookup[row.title]\n",
    "        \n",
    "        rating = torch.tensor(row.rating, dtype=torch.float32)\n",
    "        \n",
    "        return (user_id, movie_id), rating\n",
    "\n",
    "    def __len__(self):\n",
    "        return len(self.df)"
   ]
  },
  {
   "cell_type": "markdown",
   "metadata": {},
   "source": [
    "Преопределим обучающую и валидационную выборку в контексте нашего нового класса."
   ]
  },
  {
   "cell_type": "code",
   "execution_count": 37,
   "metadata": {
    "id": "4S40tPEyiuOh"
   },
   "outputs": [],
   "source": [
    "train_dataset = UserItemRatingDataset(train_df, movie_lookup, user_lookup)\n",
    "valid_dataset = UserItemRatingDataset(valid_df, movie_lookup, user_lookup)"
   ]
  },
  {
   "cell_type": "markdown",
   "metadata": {},
   "source": [
    "# Создание модели\n",
    "С помощью библиотеки PyTorch создадим модель, которая будет содержать слой эмбеддинга.При указании размера слоя эмбеддинга необходимо сделать так, чтобы в нём присутствовали бы все значения, которые могут встретиться в процессе обучения и проверки модели. Из-за этого мы используем количество уникальных элементов, имеющихся в полном наборе данных, а не только в учебном наборе."
   ]
  },
  {
   "cell_type": "code",
   "execution_count": 38,
   "metadata": {
    "id": "7vnM2TMbuIcL"
   },
   "outputs": [],
   "source": [
    "import torch\n",
    "from torch import nn\n",
    "\n",
    "class MfDotBias(nn.Module):\n",
    "\n",
    "    def __init__(\n",
    "        self, n_factors, n_users, n_items, ratings_range=None, use_biases=True\n",
    "    ):\n",
    "        super().__init__()\n",
    "        self.bias = use_biases\n",
    "        self.y_range = ratings_range\n",
    "        self.user_embedding = nn.Embedding(n_users+1, n_factors, padding_idx=0)\n",
    "        self.item_embedding = nn.Embedding(n_items+1, n_factors, padding_idx=0)\n",
    "\n",
    "        if use_biases:\n",
    "            self.user_bias = nn.Embedding(n_users+1, 1, padding_idx=0)\n",
    "            self.item_bias = nn.Embedding(n_items+1, 1, padding_idx=0)\n",
    "\n",
    "    def forward(self, inputs):\n",
    "        users, items = inputs\n",
    "        dot = self.user_embedding(users) * self.item_embedding(items)\n",
    "        result = dot.sum(1)\n",
    "        if self.bias:\n",
    "            result = (\n",
    "                result + self.user_bias(users).squeeze() + self.item_bias(items).squeeze()\n",
    "            )\n",
    "\n",
    "        if self.y_range is None:\n",
    "            return result\n",
    "        else:\n",
    "            return (\n",
    "                torch.sigmoid(result) * (self.y_range[1] - self.y_range[0])\n",
    "                + self.y_range[0]\n",
    "            )"
   ]
  },
  {
   "cell_type": "markdown",
   "metadata": {
    "id": "40V9QFN0qH01"
   },
   "source": [
    "# Создание callback для отслеживания метрики"
   ]
  },
  {
   "cell_type": "code",
   "execution_count": 39,
   "metadata": {
    "id": "i3i9C9nDqYUM"
   },
   "outputs": [
    {
     "name": "stdout",
     "output_type": "stream",
     "text": [
      "Collecting pytorch_accelerated\n",
      "  Downloading pytorch_accelerated-0.1.45-py3-none-any.whl (51 kB)\n",
      "Collecting accelerate==0.18.0\n",
      "  Downloading accelerate-0.18.0-py3-none-any.whl (215 kB)\n",
      "Requirement already satisfied: tqdm~=4.64.0 in c:\\users\\konma\\appdata\\local\\programs\\python\\python310\\lib\\site-packages (from pytorch_accelerated) (4.64.1)\n",
      "Requirement already satisfied: torch>=1.4.0 in c:\\users\\konma\\appdata\\local\\programs\\python\\python310\\lib\\site-packages (from accelerate==0.18.0->pytorch_accelerated) (2.0.1)\n",
      "Collecting pyyaml\n",
      "  Downloading PyYAML-6.0-cp310-cp310-win_amd64.whl (151 kB)\n",
      "Requirement already satisfied: numpy>=1.17 in c:\\users\\konma\\appdata\\local\\programs\\python\\python310\\lib\\site-packages (from accelerate==0.18.0->pytorch_accelerated) (1.21.4)\n",
      "Collecting psutil\n",
      "  Downloading psutil-5.9.5-cp36-abi3-win_amd64.whl (255 kB)\n",
      "Requirement already satisfied: packaging>=20.0 in c:\\users\\konma\\appdata\\local\\programs\\python\\python310\\lib\\site-packages (from accelerate==0.18.0->pytorch_accelerated) (21.3)\n",
      "Requirement already satisfied: pyparsing!=3.0.5,>=2.0.2 in c:\\users\\konma\\appdata\\local\\programs\\python\\python310\\lib\\site-packages (from packaging>=20.0->accelerate==0.18.0->pytorch_accelerated) (3.0.6)\n",
      "Requirement already satisfied: jinja2 in c:\\users\\konma\\appdata\\local\\programs\\python\\python310\\lib\\site-packages (from torch>=1.4.0->accelerate==0.18.0->pytorch_accelerated) (3.0.3)\n",
      "Requirement already satisfied: filelock in c:\\users\\konma\\appdata\\local\\programs\\python\\python310\\lib\\site-packages (from torch>=1.4.0->accelerate==0.18.0->pytorch_accelerated) (3.12.0)\n",
      "Requirement already satisfied: sympy in c:\\users\\konma\\appdata\\local\\programs\\python\\python310\\lib\\site-packages (from torch>=1.4.0->accelerate==0.18.0->pytorch_accelerated) (1.11.1)\n",
      "Requirement already satisfied: typing-extensions in c:\\users\\konma\\appdata\\local\\programs\\python\\python310\\lib\\site-packages (from torch>=1.4.0->accelerate==0.18.0->pytorch_accelerated) (4.5.0)\n",
      "Requirement already satisfied: networkx in c:\\users\\konma\\appdata\\local\\programs\\python\\python310\\lib\\site-packages (from torch>=1.4.0->accelerate==0.18.0->pytorch_accelerated) (3.1)\n",
      "Requirement already satisfied: colorama in c:\\users\\konma\\appdata\\local\\programs\\python\\python310\\lib\\site-packages (from tqdm~=4.64.0->pytorch_accelerated) (0.4.4)\n",
      "Requirement already satisfied: MarkupSafe>=2.0 in c:\\users\\konma\\appdata\\local\\programs\\python\\python310\\lib\\site-packages (from jinja2->torch>=1.4.0->accelerate==0.18.0->pytorch_accelerated) (2.1.1)\n",
      "Requirement already satisfied: mpmath>=0.19 in c:\\users\\konma\\appdata\\local\\programs\\python\\python310\\lib\\site-packages (from sympy->torch>=1.4.0->accelerate==0.18.0->pytorch_accelerated) (1.3.0)\n",
      "Installing collected packages: pyyaml, psutil, accelerate, pytorch-accelerated\n",
      "Successfully installed accelerate-0.18.0 psutil-5.9.5 pytorch-accelerated-0.1.45 pyyaml-6.0\n"
     ]
    },
    {
     "name": "stderr",
     "output_type": "stream",
     "text": [
      "WARNING: You are using pip version 21.2.3; however, version 23.1.2 is available.\n",
      "You should consider upgrading via the 'C:\\Users\\konma\\AppData\\Local\\Programs\\Python\\Python310\\python.exe -m pip install --upgrade pip' command.\n"
     ]
    }
   ],
   "source": [
    "!pip install pytorch_accelerated"
   ]
  },
  {
   "cell_type": "code",
   "execution_count": 40,
   "metadata": {
    "id": "z0DeGTm1qxid"
   },
   "outputs": [
    {
     "name": "stdout",
     "output_type": "stream",
     "text": [
      "Collecting torchmetrics\n",
      "  Downloading torchmetrics-0.11.4-py3-none-any.whl (519 kB)\n",
      "Requirement already satisfied: packaging in c:\\users\\konma\\appdata\\local\\programs\\python\\python310\\lib\\site-packages (from torchmetrics) (21.3)\n",
      "Requirement already satisfied: torch>=1.8.1 in c:\\users\\konma\\appdata\\local\\programs\\python\\python310\\lib\\site-packages (from torchmetrics) (2.0.1)\n",
      "Requirement already satisfied: numpy>=1.17.2 in c:\\users\\konma\\appdata\\local\\programs\\python\\python310\\lib\\site-packages (from torchmetrics) (1.21.4)\n",
      "Requirement already satisfied: networkx in c:\\users\\konma\\appdata\\local\\programs\\python\\python310\\lib\\site-packages (from torch>=1.8.1->torchmetrics) (3.1)\n",
      "Requirement already satisfied: sympy in c:\\users\\konma\\appdata\\local\\programs\\python\\python310\\lib\\site-packages (from torch>=1.8.1->torchmetrics) (1.11.1)\n",
      "Requirement already satisfied: typing-extensions in c:\\users\\konma\\appdata\\local\\programs\\python\\python310\\lib\\site-packages (from torch>=1.8.1->torchmetrics) (4.5.0)\n",
      "Requirement already satisfied: filelock in c:\\users\\konma\\appdata\\local\\programs\\python\\python310\\lib\\site-packages (from torch>=1.8.1->torchmetrics) (3.12.0)\n",
      "Requirement already satisfied: jinja2 in c:\\users\\konma\\appdata\\local\\programs\\python\\python310\\lib\\site-packages (from torch>=1.8.1->torchmetrics) (3.0.3)\n",
      "Requirement already satisfied: MarkupSafe>=2.0 in c:\\users\\konma\\appdata\\local\\programs\\python\\python310\\lib\\site-packages (from jinja2->torch>=1.8.1->torchmetrics) (2.1.1)\n",
      "Requirement already satisfied: pyparsing!=3.0.5,>=2.0.2 in c:\\users\\konma\\appdata\\local\\programs\\python\\python310\\lib\\site-packages (from packaging->torchmetrics) (3.0.6)\n",
      "Requirement already satisfied: mpmath>=0.19 in c:\\users\\konma\\appdata\\local\\programs\\python\\python310\\lib\\site-packages (from sympy->torch>=1.8.1->torchmetrics) (1.3.0)\n",
      "Installing collected packages: torchmetrics\n",
      "Successfully installed torchmetrics-0.11.4\n"
     ]
    },
    {
     "name": "stderr",
     "output_type": "stream",
     "text": [
      "WARNING: You are using pip version 21.2.3; however, version 23.1.2 is available.\n",
      "You should consider upgrading via the 'C:\\Users\\konma\\AppData\\Local\\Programs\\Python\\Python310\\python.exe -m pip install --upgrade pip' command.\n"
     ]
    }
   ],
   "source": [
    "!pip install torchmetrics"
   ]
  },
  {
   "cell_type": "code",
   "execution_count": 42,
   "metadata": {
    "id": "ClF6F5A-qDq5"
   },
   "outputs": [],
   "source": [
    "from functools import partial\n",
    "\n",
    "from pytorch_accelerated import Trainer, notebook_launcher \n",
    "from pytorch_accelerated.trainer import TrainerPlaceholderValues, DEFAULT_CALLBACKS\n",
    "from pytorch_accelerated.callbacks import EarlyStoppingCallback, SaveBestModelCallback, TrainerCallback, StopTrainingError\n",
    "import torchmetrics"
   ]
  },
  {
   "cell_type": "code",
   "execution_count": 43,
   "metadata": {
    "id": "_-vYeml9qv5U"
   },
   "outputs": [],
   "source": [
    "class RecommenderMetricsCallback(TrainerCallback):\n",
    "    def __init__(self):\n",
    "        self.metrics = torchmetrics.MetricCollection(\n",
    "            {\n",
    "                \"mse\": torchmetrics.MeanSquaredError(),\n",
    "                \"mae\": torchmetrics.MeanAbsoluteError(),\n",
    "            }\n",
    "        )\n",
    "\n",
    "    def _move_to_device(self, trainer):\n",
    "        self.metrics.to(trainer.device)\n",
    "\n",
    "    def on_training_run_start(self, trainer, **kwargs):\n",
    "        self._move_to_device(trainer)\n",
    "\n",
    "    def on_evaluation_run_start(self, trainer, **kwargs):\n",
    "        self._move_to_device(trainer)\n",
    "\n",
    "    def on_eval_step_end(self, trainer, batch, batch_output, **kwargs):\n",
    "        preds = batch_output[\"model_outputs\"]\n",
    "        self.metrics.update(preds, batch[1])\n",
    "\n",
    "    def on_eval_epoch_end(self, trainer, **kwargs):\n",
    "        metrics = self.metrics.compute()\n",
    "        \n",
    "        mse = metrics[\"mse\"].cpu()\n",
    "        trainer.run_history.update_metric(\"mae\", metrics[\"mae\"].cpu())\n",
    "        trainer.run_history.update_metric(\"mse\", mse)\n",
    "        trainer.run_history.update_metric(\"rmse\",  math.sqrt(mse))\n",
    "\n",
    "        self.metrics.reset()"
   ]
  },
  {
   "cell_type": "markdown",
   "metadata": {},
   "source": [
    "# Обучение модели\n",
    "В качестве функции потерь мы выбрали MSE, в качестве оптимизатора — AdamW, скорость обучения задаём с помощью OneCycle. Это приводит нас к такой обучающей функции:"
   ]
  },
  {
   "cell_type": "code",
   "execution_count": 44,
   "metadata": {
    "id": "KizSnXI3rnIH"
   },
   "outputs": [],
   "source": [
    "def train_mf_model():\n",
    "    model = MfDotBias(\n",
    "        120, len(user_lookup), len(movie_lookup), ratings_range=[0, 5.5]\n",
    "    )\n",
    "    loss_func = torch.nn.MSELoss()\n",
    "\n",
    "    optimizer = torch.optim.AdamW(model.parameters(), lr=0.01)\n",
    "\n",
    "    create_sched_fn = partial(\n",
    "        torch.optim.lr_scheduler.OneCycleLR,\n",
    "        max_lr=0.01,\n",
    "        epochs=TrainerPlaceholderValues.NUM_EPOCHS,\n",
    "        steps_per_epoch=TrainerPlaceholderValues.NUM_UPDATE_STEPS_PER_EPOCH,\n",
    "    )\n",
    "\n",
    "    trainer = Trainer(\n",
    "        model=model,\n",
    "        loss_func=loss_func,\n",
    "        optimizer=optimizer,\n",
    "        callbacks=(\n",
    "            RecommenderMetricsCallback,\n",
    "            *DEFAULT_CALLBACKS,\n",
    "            SaveBestModelCallback(watch_metric=\"mae\"),\n",
    "            EarlyStoppingCallback(\n",
    "                early_stopping_patience=2,\n",
    "                early_stopping_threshold=0.001,\n",
    "                watch_metric=\"mae\",\n",
    "            ),\n",
    "        ),\n",
    "    )\n",
    "\n",
    "    trainer.train(\n",
    "        train_dataset=train_dataset,\n",
    "        eval_dataset=valid_dataset,\n",
    "        num_epochs=2,\n",
    "        per_device_batch_size=512,\n",
    "        create_scheduler_fn=create_sched_fn,\n",
    "    )"
   ]
  },
  {
   "cell_type": "markdown",
   "metadata": {},
   "source": [
    "### Теперь можно запустить обучение, передав эту функцию функции notebook_launcher:"
   ]
  },
  {
   "cell_type": "code",
   "execution_count": 73,
   "metadata": {
    "id": "JmV_yhRHuA8X",
    "scrolled": true
   },
   "outputs": [
    {
     "data": {
      "text/plain": [
       "False"
      ]
     },
     "execution_count": 73,
     "metadata": {},
     "output_type": "execute_result"
    }
   ],
   "source": [
    "# torch.cuda.get_device_name(0)\n",
    "torch.cuda.is_available()"
   ]
  },
  {
   "cell_type": "code",
   "execution_count": 71,
   "metadata": {},
   "outputs": [
    {
     "ename": "NameError",
     "evalue": "name 'multiprocessing' is not defined",
     "output_type": "error",
     "traceback": [
      "\u001b[1;31m---------------------------------------------------------------------------\u001b[0m",
      "\u001b[1;31mNameError\u001b[0m                                 Traceback (most recent call last)",
      "Input \u001b[1;32mIn [71]\u001b[0m, in \u001b[0;36m<cell line: 1>\u001b[1;34m()\u001b[0m\n\u001b[1;32m----> 1\u001b[0m \u001b[43mmultiprocessing\u001b[49m\u001b[38;5;241m.\u001b[39mset_start_method(\u001b[38;5;124m\"\u001b[39m\u001b[38;5;124mfork\u001b[39m\u001b[38;5;124m\"\u001b[39m, force\u001b[38;5;241m=\u001b[39m\u001b[38;5;28;01mTrue\u001b[39;00m)\n",
      "\u001b[1;31mNameError\u001b[0m: name 'multiprocessing' is not defined"
     ]
    }
   ],
   "source": [
    "multiprocessing.set_start_method(\"fork\", force=True)"
   ]
  },
  {
   "cell_type": "code",
   "execution_count": 70,
   "metadata": {
    "id": "KcMBrQnDtn0t"
   },
   "outputs": [
    {
     "name": "stdout",
     "output_type": "stream",
     "text": [
      "Launching training on 2 GPUs.\n"
     ]
    },
    {
     "ename": "ValueError",
     "evalue": "cannot find context for 'fork'",
     "output_type": "error",
     "traceback": [
      "\u001b[1;31m---------------------------------------------------------------------------\u001b[0m",
      "\u001b[1;31mValueError\u001b[0m                                Traceback (most recent call last)",
      "Input \u001b[1;32mIn [70]\u001b[0m, in \u001b[0;36m<cell line: 1>\u001b[1;34m()\u001b[0m\n\u001b[1;32m----> 1\u001b[0m \u001b[43mnotebook_launcher\u001b[49m\u001b[43m(\u001b[49m\u001b[43mtrain_mf_model\u001b[49m\u001b[43m,\u001b[49m\u001b[43m \u001b[49m\u001b[43mnum_processes\u001b[49m\u001b[38;5;241;43m=\u001b[39;49m\u001b[38;5;241;43m2\u001b[39;49m\u001b[43m)\u001b[49m\n",
      "File \u001b[1;32m~\\AppData\\Local\\Programs\\Python\\Python310\\lib\\site-packages\\accelerate\\launchers.py:136\u001b[0m, in \u001b[0;36mnotebook_launcher\u001b[1;34m(function, args, num_processes, mixed_precision, use_port)\u001b[0m\n\u001b[0;32m    133\u001b[0m         launcher \u001b[38;5;241m=\u001b[39m PrepareForLaunch(function, distributed_type\u001b[38;5;241m=\u001b[39m\u001b[38;5;124m\"\u001b[39m\u001b[38;5;124mMULTI_GPU\u001b[39m\u001b[38;5;124m\"\u001b[39m)\n\u001b[0;32m    135\u001b[0m         \u001b[38;5;28mprint\u001b[39m(\u001b[38;5;124mf\u001b[39m\u001b[38;5;124m\"\u001b[39m\u001b[38;5;124mLaunching training on \u001b[39m\u001b[38;5;132;01m{\u001b[39;00mnum_processes\u001b[38;5;132;01m}\u001b[39;00m\u001b[38;5;124m GPUs.\u001b[39m\u001b[38;5;124m\"\u001b[39m)\n\u001b[1;32m--> 136\u001b[0m         \u001b[43mstart_processes\u001b[49m\u001b[43m(\u001b[49m\u001b[43mlauncher\u001b[49m\u001b[43m,\u001b[49m\u001b[43m \u001b[49m\u001b[43margs\u001b[49m\u001b[38;5;241;43m=\u001b[39;49m\u001b[43margs\u001b[49m\u001b[43m,\u001b[49m\u001b[43m \u001b[49m\u001b[43mnprocs\u001b[49m\u001b[38;5;241;43m=\u001b[39;49m\u001b[43mnum_processes\u001b[49m\u001b[43m,\u001b[49m\u001b[43m \u001b[49m\u001b[43mstart_method\u001b[49m\u001b[38;5;241;43m=\u001b[39;49m\u001b[38;5;124;43m\"\u001b[39;49m\u001b[38;5;124;43mfork\u001b[39;49m\u001b[38;5;124;43m\"\u001b[39;49m\u001b[43m)\u001b[49m\n\u001b[0;32m    138\u001b[0m \u001b[38;5;28;01melse\u001b[39;00m:\n\u001b[0;32m    139\u001b[0m     \u001b[38;5;66;03m# No need for a distributed launch otherwise as it's either CPU, GPU or MPS.\u001b[39;00m\n\u001b[0;32m    140\u001b[0m     \u001b[38;5;28;01mif\u001b[39;00m is_mps_available():\n",
      "File \u001b[1;32m~\\AppData\\Local\\Programs\\Python\\Python310\\lib\\site-packages\\torch\\multiprocessing\\spawn.py:178\u001b[0m, in \u001b[0;36mstart_processes\u001b[1;34m(fn, args, nprocs, join, daemon, start_method)\u001b[0m\n\u001b[0;32m    177\u001b[0m \u001b[38;5;28;01mdef\u001b[39;00m \u001b[38;5;21mstart_processes\u001b[39m(fn, args\u001b[38;5;241m=\u001b[39m(), nprocs\u001b[38;5;241m=\u001b[39m\u001b[38;5;241m1\u001b[39m, join\u001b[38;5;241m=\u001b[39m\u001b[38;5;28;01mTrue\u001b[39;00m, daemon\u001b[38;5;241m=\u001b[39m\u001b[38;5;28;01mFalse\u001b[39;00m, start_method\u001b[38;5;241m=\u001b[39m\u001b[38;5;124m'\u001b[39m\u001b[38;5;124mspawn\u001b[39m\u001b[38;5;124m'\u001b[39m):\n\u001b[1;32m--> 178\u001b[0m     mp \u001b[38;5;241m=\u001b[39m \u001b[43mmultiprocessing\u001b[49m\u001b[38;5;241;43m.\u001b[39;49m\u001b[43mget_context\u001b[49m\u001b[43m(\u001b[49m\u001b[43mstart_method\u001b[49m\u001b[43m)\u001b[49m\n\u001b[0;32m    179\u001b[0m     error_queues \u001b[38;5;241m=\u001b[39m []\n\u001b[0;32m    180\u001b[0m     processes \u001b[38;5;241m=\u001b[39m []\n",
      "File \u001b[1;32m~\\AppData\\Local\\Programs\\Python\\Python310\\lib\\multiprocessing\\context.py:239\u001b[0m, in \u001b[0;36mDefaultContext.get_context\u001b[1;34m(self, method)\u001b[0m\n\u001b[0;32m    237\u001b[0m     \u001b[38;5;28;01mreturn\u001b[39;00m \u001b[38;5;28mself\u001b[39m\u001b[38;5;241m.\u001b[39m_actual_context\n\u001b[0;32m    238\u001b[0m \u001b[38;5;28;01melse\u001b[39;00m:\n\u001b[1;32m--> 239\u001b[0m     \u001b[38;5;28;01mreturn\u001b[39;00m \u001b[38;5;28;43msuper\u001b[39;49m\u001b[43m(\u001b[49m\u001b[43m)\u001b[49m\u001b[38;5;241;43m.\u001b[39;49m\u001b[43mget_context\u001b[49m\u001b[43m(\u001b[49m\u001b[43mmethod\u001b[49m\u001b[43m)\u001b[49m\n",
      "File \u001b[1;32m~\\AppData\\Local\\Programs\\Python\\Python310\\lib\\multiprocessing\\context.py:193\u001b[0m, in \u001b[0;36mBaseContext.get_context\u001b[1;34m(self, method)\u001b[0m\n\u001b[0;32m    191\u001b[0m     ctx \u001b[38;5;241m=\u001b[39m _concrete_contexts[method]\n\u001b[0;32m    192\u001b[0m \u001b[38;5;28;01mexcept\u001b[39;00m \u001b[38;5;167;01mKeyError\u001b[39;00m:\n\u001b[1;32m--> 193\u001b[0m     \u001b[38;5;28;01mraise\u001b[39;00m \u001b[38;5;167;01mValueError\u001b[39;00m(\u001b[38;5;124m'\u001b[39m\u001b[38;5;124mcannot find context for \u001b[39m\u001b[38;5;132;01m%r\u001b[39;00m\u001b[38;5;124m'\u001b[39m \u001b[38;5;241m%\u001b[39m method) \u001b[38;5;28;01mfrom\u001b[39;00m \u001b[38;5;28mNone\u001b[39m\n\u001b[0;32m    194\u001b[0m ctx\u001b[38;5;241m.\u001b[39m_check_available()\n\u001b[0;32m    195\u001b[0m \u001b[38;5;28;01mreturn\u001b[39;00m ctx\n",
      "\u001b[1;31mValueError\u001b[0m: cannot find context for 'fork'"
     ]
    }
   ],
   "source": [
    "notebook_launcher(train_mf_model, num_processes=2)"
   ]
  },
  {
   "cell_type": "code",
   "execution_count": 48,
   "metadata": {
    "id": "6gGSiy-Lztvx"
   },
   "outputs": [],
   "source": []
  }
 ],
 "metadata": {
  "accelerator": "GPU",
  "colab": {
   "gpuType": "T4",
   "provenance": []
  },
  "gpuClass": "standard",
  "kernelspec": {
   "display_name": "Python 3 (ipykernel)",
   "language": "python",
   "name": "python3"
  },
  "language_info": {
   "codemirror_mode": {
    "name": "ipython",
    "version": 3
   },
   "file_extension": ".py",
   "mimetype": "text/x-python",
   "name": "python",
   "nbconvert_exporter": "python",
   "pygments_lexer": "ipython3",
   "version": "3.10.0"
  }
 },
 "nbformat": 4,
 "nbformat_minor": 1
}
